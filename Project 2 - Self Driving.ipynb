{
 "cells": [
  {
   "cell_type": "markdown",
   "id": "6598503f-de27-4907-8522-67e08938a037",
   "metadata": {},
   "source": [
    "### Import Dependencies"
   ]
  },
  {
   "cell_type": "code",
   "execution_count": 2,
   "id": "cd8b09b9-7d79-4673-8075-154ce26d5499",
   "metadata": {
    "collapsed": true,
    "jupyter": {
     "outputs_hidden": true
    },
    "tags": []
   },
   "outputs": [
    {
     "name": "stdout",
     "output_type": "stream",
     "text": [
      "Defaulting to user installation because normal site-packages is not writeable\n",
      "Collecting box2d\n",
      "  Downloading Box2D-2.3.2.tar.gz (427 kB)\n",
      "     |████████████████████████████████| 427 kB 928 kB/s            \n",
      "\u001b[?25h  Preparing metadata (setup.py) ... \u001b[?25ldone\n",
      "\u001b[?25hCollecting pygame\n",
      "  Downloading pygame-2.1.2-cp310-cp310-manylinux_2_17_x86_64.manylinux2014_x86_64.whl (21.9 MB)\n",
      "     |████████████████████████████████| 21.9 MB 11.3 MB/s            \n",
      "\u001b[?25hBuilding wheels for collected packages: box2d\n",
      "  Building wheel for box2d (setup.py) ... \u001b[?25ldone\n",
      "\u001b[?25h  Created wheel for box2d: filename=Box2D-2.3.2-cp310-cp310-linux_x86_64.whl size=2335745 sha256=df08aebc52d02e19b771d33ac5b1598d836626ee6c62eeeb1ddaf397b7ebf5cb\n",
      "  Stored in directory: /home/joezik/.cache/pip/wheels/eb/cb/be/e663f3ce9aba6580611c0febaf7cd3cf7603f87047de2a52f9\n",
      "Successfully built box2d\n",
      "Installing collected packages: pygame, box2d\n",
      "Successfully installed box2d-2.3.2 pygame-2.1.2\n"
     ]
    }
   ],
   "source": [
    "##!pip install box2d pygame"
   ]
  },
  {
   "cell_type": "code",
   "execution_count": 1,
   "id": "d5424538-30cd-425e-86c5-6ebbc23049f9",
   "metadata": {
    "collapsed": true,
    "jupyter": {
     "outputs_hidden": true
    },
    "tags": []
   },
   "outputs": [
    {
     "name": "stdout",
     "output_type": "stream",
     "text": [
      "Defaulting to user installation because normal site-packages is not writeable\n",
      "Requirement already satisfied: gym in /home/joezik/.local/lib/python3.10/site-packages (0.21.0)\n",
      "Requirement already satisfied: pyglet in /home/joezik/.local/lib/python3.10/site-packages (1.5.26)\n",
      "Requirement already satisfied: numpy>=1.18.0 in /usr/lib64/python3.10/site-packages (from gym) (1.22.0)\n",
      "Requirement already satisfied: cloudpickle>=1.2.0 in /home/joezik/.local/lib/python3.10/site-packages (from gym) (2.1.0)\n"
     ]
    }
   ],
   "source": [
    "##!pip install gym pyglet"
   ]
  },
  {
   "cell_type": "code",
   "execution_count": 6,
   "id": "4fa58c7f-147d-4422-9935-3ad4a8df4d59",
   "metadata": {
    "collapsed": true,
    "jupyter": {
     "outputs_hidden": true
    },
    "tags": []
   },
   "outputs": [
    {
     "name": "stdout",
     "output_type": "stream",
     "text": [
      "Defaulting to user installation because normal site-packages is not writeable\n",
      "Requirement already satisfied: box2d in /home/joezik/.local/lib/python3.10/site-packages (2.3.2)\n",
      "Collecting box2d-kengz\n",
      "  Downloading Box2D-kengz-2.3.3.tar.gz (425 kB)\n",
      "     |████████████████████████████████| 425 kB 834 kB/s            \n",
      "\u001b[?25h  Preparing metadata (setup.py) ... \u001b[?25ldone\n",
      "\u001b[?25hBuilding wheels for collected packages: box2d-kengz\n",
      "  Building wheel for box2d-kengz (setup.py) ... \u001b[?25ldone\n",
      "\u001b[?25h  Created wheel for box2d-kengz: filename=Box2D_kengz-2.3.3-cp310-cp310-linux_x86_64.whl size=2335731 sha256=4cef8a2efc88ac4000d98e89fb7faedb65a45349eba5adfbb2f372fea40c5637\n",
      "  Stored in directory: /home/joezik/.cache/pip/wheels/ab/a3/5f/6396406aa0163da86c2a8d28304a120b55cfa98363654d853b\n",
      "Successfully built box2d-kengz\n",
      "Installing collected packages: box2d-kengz\n",
      "Successfully installed box2d-kengz-2.3.3\n"
     ]
    }
   ],
   "source": [
    "##!pip install box2d box2d-kengz"
   ]
  },
  {
   "cell_type": "code",
   "execution_count": 1,
   "id": "00556978-9ffe-4a7c-b828-40ef3d783289",
   "metadata": {},
   "outputs": [],
   "source": [
    "import gym\n",
    "from stable_baselines3 import PPO\n",
    "from stable_baselines3.common.vec_env import DummyVecEnv\n",
    "from stable_baselines3.common.evaluation import evaluate_policy\n",
    "import os"
   ]
  },
  {
   "cell_type": "markdown",
   "id": "82c5e574-e3bb-4c42-857a-7e091967d8d4",
   "metadata": {},
   "source": [
    "### Test Enviroment"
   ]
  },
  {
   "cell_type": "code",
   "execution_count": 2,
   "id": "ce4c1699-21d4-452c-8fc4-bf700739ea9b",
   "metadata": {},
   "outputs": [],
   "source": [
    "environment_name = 'CarRacing-v0'\n",
    "env = gym.make(environment_name)"
   ]
  },
  {
   "cell_type": "code",
   "execution_count": 4,
   "id": "dd582707-56f1-4245-9abb-ad84885943f0",
   "metadata": {
    "collapsed": true,
    "jupyter": {
     "outputs_hidden": true
    },
    "tags": []
   },
   "outputs": [
    {
     "name": "stdout",
     "output_type": "stream",
     "text": [
      "Track generation: 1156..1449 -> 293-tiles track\n"
     ]
    },
    {
     "data": {
      "text/plain": [
       "array([[[0, 0, 0],\n",
       "        [0, 0, 0],\n",
       "        [0, 0, 0],\n",
       "        ...,\n",
       "        [0, 0, 0],\n",
       "        [0, 0, 0],\n",
       "        [0, 0, 0]],\n",
       "\n",
       "       [[0, 0, 0],\n",
       "        [0, 0, 0],\n",
       "        [0, 0, 0],\n",
       "        ...,\n",
       "        [0, 0, 0],\n",
       "        [0, 0, 0],\n",
       "        [0, 0, 0]],\n",
       "\n",
       "       [[0, 0, 0],\n",
       "        [0, 0, 0],\n",
       "        [0, 0, 0],\n",
       "        ...,\n",
       "        [0, 0, 0],\n",
       "        [0, 0, 0],\n",
       "        [0, 0, 0]],\n",
       "\n",
       "       ...,\n",
       "\n",
       "       [[0, 0, 0],\n",
       "        [0, 0, 0],\n",
       "        [0, 0, 0],\n",
       "        ...,\n",
       "        [0, 0, 0],\n",
       "        [0, 0, 0],\n",
       "        [0, 0, 0]],\n",
       "\n",
       "       [[0, 0, 0],\n",
       "        [0, 0, 0],\n",
       "        [0, 0, 0],\n",
       "        ...,\n",
       "        [0, 0, 0],\n",
       "        [0, 0, 0],\n",
       "        [0, 0, 0]],\n",
       "\n",
       "       [[0, 0, 0],\n",
       "        [0, 0, 0],\n",
       "        [0, 0, 0],\n",
       "        ...,\n",
       "        [0, 0, 0],\n",
       "        [0, 0, 0],\n",
       "        [0, 0, 0]]], dtype=uint8)"
      ]
     },
     "execution_count": 4,
     "metadata": {},
     "output_type": "execute_result"
    }
   ],
   "source": [
    "env.reset()"
   ]
  },
  {
   "cell_type": "code",
   "execution_count": 3,
   "id": "c8c8bb52-1734-4c64-9aac-1791485ed9d4",
   "metadata": {},
   "outputs": [
    {
     "data": {
      "text/plain": [
       "Box([-1.  0.  0.], [1. 1. 1.], (3,), float32)"
      ]
     },
     "execution_count": 3,
     "metadata": {},
     "output_type": "execute_result"
    }
   ],
   "source": [
    "env.action_space"
   ]
  },
  {
   "cell_type": "code",
   "execution_count": 7,
   "id": "adcac8b1-8427-4aba-b64d-ced57d1c5d57",
   "metadata": {
    "collapsed": true,
    "jupyter": {
     "outputs_hidden": true
    },
    "tags": []
   },
   "outputs": [
    {
     "data": {
      "text/plain": [
       "Box([[[0 0 0]\n",
       "  [0 0 0]\n",
       "  [0 0 0]\n",
       "  ...\n",
       "  [0 0 0]\n",
       "  [0 0 0]\n",
       "  [0 0 0]]\n",
       "\n",
       " [[0 0 0]\n",
       "  [0 0 0]\n",
       "  [0 0 0]\n",
       "  ...\n",
       "  [0 0 0]\n",
       "  [0 0 0]\n",
       "  [0 0 0]]\n",
       "\n",
       " [[0 0 0]\n",
       "  [0 0 0]\n",
       "  [0 0 0]\n",
       "  ...\n",
       "  [0 0 0]\n",
       "  [0 0 0]\n",
       "  [0 0 0]]\n",
       "\n",
       " ...\n",
       "\n",
       " [[0 0 0]\n",
       "  [0 0 0]\n",
       "  [0 0 0]\n",
       "  ...\n",
       "  [0 0 0]\n",
       "  [0 0 0]\n",
       "  [0 0 0]]\n",
       "\n",
       " [[0 0 0]\n",
       "  [0 0 0]\n",
       "  [0 0 0]\n",
       "  ...\n",
       "  [0 0 0]\n",
       "  [0 0 0]\n",
       "  [0 0 0]]\n",
       "\n",
       " [[0 0 0]\n",
       "  [0 0 0]\n",
       "  [0 0 0]\n",
       "  ...\n",
       "  [0 0 0]\n",
       "  [0 0 0]\n",
       "  [0 0 0]]], [[[255 255 255]\n",
       "  [255 255 255]\n",
       "  [255 255 255]\n",
       "  ...\n",
       "  [255 255 255]\n",
       "  [255 255 255]\n",
       "  [255 255 255]]\n",
       "\n",
       " [[255 255 255]\n",
       "  [255 255 255]\n",
       "  [255 255 255]\n",
       "  ...\n",
       "  [255 255 255]\n",
       "  [255 255 255]\n",
       "  [255 255 255]]\n",
       "\n",
       " [[255 255 255]\n",
       "  [255 255 255]\n",
       "  [255 255 255]\n",
       "  ...\n",
       "  [255 255 255]\n",
       "  [255 255 255]\n",
       "  [255 255 255]]\n",
       "\n",
       " ...\n",
       "\n",
       " [[255 255 255]\n",
       "  [255 255 255]\n",
       "  [255 255 255]\n",
       "  ...\n",
       "  [255 255 255]\n",
       "  [255 255 255]\n",
       "  [255 255 255]]\n",
       "\n",
       " [[255 255 255]\n",
       "  [255 255 255]\n",
       "  [255 255 255]\n",
       "  ...\n",
       "  [255 255 255]\n",
       "  [255 255 255]\n",
       "  [255 255 255]]\n",
       "\n",
       " [[255 255 255]\n",
       "  [255 255 255]\n",
       "  [255 255 255]\n",
       "  ...\n",
       "  [255 255 255]\n",
       "  [255 255 255]\n",
       "  [255 255 255]]], (96, 96, 3), uint8)"
      ]
     },
     "execution_count": 7,
     "metadata": {},
     "output_type": "execute_result"
    }
   ],
   "source": [
    "env.observation_space"
   ]
  },
  {
   "cell_type": "code",
   "execution_count": 8,
   "id": "7f9fcf45-a382-4750-9795-53a647da504f",
   "metadata": {},
   "outputs": [
    {
     "data": {
      "text/plain": [
       "True"
      ]
     },
     "execution_count": 8,
     "metadata": {},
     "output_type": "execute_result"
    }
   ],
   "source": [
    "##env.render()"
   ]
  },
  {
   "cell_type": "code",
   "execution_count": 9,
   "id": "a0cbae83-98fb-470c-b7cd-47a015dd1a46",
   "metadata": {},
   "outputs": [],
   "source": [
    "##env.close()"
   ]
  },
  {
   "cell_type": "code",
   "execution_count": 4,
   "id": "d4231610-dabf-4f4c-a224-9fa791c9610c",
   "metadata": {},
   "outputs": [
    {
     "name": "stdout",
     "output_type": "stream",
     "text": [
      "Track generation: 1121..1406 -> 285-tiles track\n",
      "Episode:1 Score:-29.577464788732776\n",
      "Track generation: 1200..1504 -> 304-tiles track\n",
      "Episode:2 Score:-37.2937293729378\n",
      "Track generation: 1037..1301 -> 264-tiles track\n",
      "retry to generate track (normal if there are not manyinstances of this message)\n",
      "Track generation: 1163..1459 -> 296-tiles track\n",
      "Episode:3 Score:-32.20338983050899\n",
      "Track generation: 1139..1428 -> 289-tiles track\n",
      "Episode:4 Score:-34.027777777778276\n",
      "Track generation: 1236..1549 -> 313-tiles track\n",
      "Episode:5 Score:-32.692307692308205\n"
     ]
    }
   ],
   "source": [
    "episodes =  5\n",
    "for episode in range(1, episodes+1):\n",
    "    obs =  env.reset()\n",
    "    done = False\n",
    "    score = 0\n",
    "    \n",
    "    while not done:\n",
    "        env.render()\n",
    "        action = env.action_space.sample()\n",
    "        obs, reward, done, info = env.step(action)\n",
    "        score+=reward\n",
    "    print('Episode:{} Score:{}'.format(episode, score))\n",
    "env.close()"
   ]
  },
  {
   "cell_type": "markdown",
   "id": "6637f8bd-526d-46a9-b652-02824e37c48b",
   "metadata": {},
   "source": [
    "### Train Model"
   ]
  },
  {
   "cell_type": "code",
   "execution_count": 5,
   "id": "fa72c281-e5b8-41c5-9e63-f972f99c802b",
   "metadata": {},
   "outputs": [],
   "source": [
    "env = gym.make(environment_name)\n",
    "env = DummyVecEnv([lambda: env])"
   ]
  },
  {
   "cell_type": "code",
   "execution_count": 15,
   "id": "9c44e50e-5dab-4a7a-b650-94882ae86e2a",
   "metadata": {},
   "outputs": [
    {
     "name": "stdout",
     "output_type": "stream",
     "text": [
      "Using cuda device\n",
      "Wrapping the env in a VecTransposeImage.\n"
     ]
    }
   ],
   "source": [
    "log_path = os.path.join('Training', 'Logs')\n",
    "model = PPO('CnnPolicy', env, verbose=1, tensorboard_log=log_path)"
   ]
  },
  {
   "cell_type": "code",
   "execution_count": 24,
   "id": "79631fab-2a0e-47ed-bb12-de3efc3920a2",
   "metadata": {
    "collapsed": true,
    "jupyter": {
     "outputs_hidden": true
    },
    "tags": []
   },
   "outputs": [
    {
     "name": "stdout",
     "output_type": "stream",
     "text": [
      "Track generation: 1139..1428 -> 289-tiles track\n",
      "Logging to Training/Logs/PPO_9\n",
      "Track generation: 1188..1489 -> 301-tiles track\n",
      "Track generation: 1247..1563 -> 316-tiles track\n",
      "-----------------------------\n",
      "| time/              |      |\n",
      "|    fps             | 352  |\n",
      "|    iterations      | 1    |\n",
      "|    time_elapsed    | 5    |\n",
      "|    total_timesteps | 2048 |\n",
      "-----------------------------\n"
     ]
    },
    {
     "data": {
      "text/plain": [
       "<stable_baselines3.ppo.ppo.PPO at 0x7f380841e8c0>"
      ]
     },
     "execution_count": 24,
     "metadata": {},
     "output_type": "execute_result"
    }
   ],
   "source": [
    "model.learn(total_timesteps=500) ## needs to train for a least millions of steps to resolve this challenge"
   ]
  },
  {
   "cell_type": "code",
   "execution_count": 25,
   "id": "7a5d159e-6d19-45a4-842c-40d88a527372",
   "metadata": {},
   "outputs": [],
   "source": [
    "env.close()"
   ]
  },
  {
   "cell_type": "markdown",
   "id": "7ad5f47f-a004-4694-9d3d-8b0bb1947043",
   "metadata": {},
   "source": [
    "### Save Model"
   ]
  },
  {
   "cell_type": "code",
   "execution_count": 18,
   "id": "9ada476a-78ad-49d7-87f6-b8938ee8bde0",
   "metadata": {},
   "outputs": [],
   "source": [
    "ppo_path = os.path.join('Training','Saved Models','PPO_Driving_Model')"
   ]
  },
  {
   "cell_type": "code",
   "execution_count": 19,
   "id": "47492817-5fb8-416e-a75f-c1d401943cb6",
   "metadata": {},
   "outputs": [],
   "source": [
    "model.save(ppo_path)"
   ]
  },
  {
   "cell_type": "code",
   "execution_count": 20,
   "id": "6911b1e4-1f65-4c8a-8de5-65f1cfeb5a78",
   "metadata": {},
   "outputs": [],
   "source": [
    "del model"
   ]
  },
  {
   "cell_type": "code",
   "execution_count": 21,
   "id": "50dbe93c-9f71-4fed-be18-724654d9d322",
   "metadata": {},
   "outputs": [
    {
     "name": "stdout",
     "output_type": "stream",
     "text": [
      "Wrapping the env in a VecTransposeImage.\n"
     ]
    }
   ],
   "source": [
    "model = PPO.load(ppo_path, env)"
   ]
  },
  {
   "cell_type": "markdown",
   "id": "e5ea7a2f-34f5-4cbd-b05c-b71b71f93c5b",
   "metadata": {},
   "source": [
    "### Evaluate and Test"
   ]
  },
  {
   "cell_type": "code",
   "execution_count": 22,
   "id": "f6f3a4b0-3b65-4cfd-bd40-b2549720ae17",
   "metadata": {},
   "outputs": [
    {
     "name": "stderr",
     "output_type": "stream",
     "text": [
      "/home/joezik/.local/lib/python3.10/site-packages/stable_baselines3/common/evaluation.py:65: UserWarning: Evaluation environment is not wrapped with a ``Monitor`` wrapper. This may result in reporting modified episode lengths and rewards, if other wrappers happen to modify these. Consider wrapping environment first with ``Monitor`` wrapper.\n",
      "  warnings.warn(\n"
     ]
    },
    {
     "name": "stdout",
     "output_type": "stream",
     "text": [
      "Track generation: 1203..1508 -> 305-tiles track\n",
      "Track generation: 1108..1389 -> 281-tiles track\n",
      "Track generation: 1088..1363 -> 275-tiles track\n",
      "Track generation: 1272..1594 -> 322-tiles track\n",
      "Track generation: 1065..1338 -> 273-tiles track\n",
      "retry to generate track (normal if there are not manyinstances of this message)\n",
      "Track generation: 1056..1323 -> 267-tiles track\n",
      "Track generation: 1219..1533 -> 314-tiles track\n"
     ]
    },
    {
     "data": {
      "text/plain": [
       "(-76.73623870909213, 4.575072854958247)"
      ]
     },
     "execution_count": 22,
     "metadata": {},
     "output_type": "execute_result"
    }
   ],
   "source": [
    "evaluate_policy(model, env, n_eval_episodes=5, render=True)"
   ]
  },
  {
   "cell_type": "code",
   "execution_count": 23,
   "id": "f2eb7de6-f38e-46f0-a62d-1e720c57153d",
   "metadata": {},
   "outputs": [],
   "source": [
    "env.close()"
   ]
  },
  {
   "cell_type": "code",
   "execution_count": 41,
   "id": "493f7258-e02c-4cf7-b3fb-5f7df532f5f6",
   "metadata": {},
   "outputs": [
    {
     "name": "stdout",
     "output_type": "stream",
     "text": [
      "Track generation: 1064..1341 -> 277-tiles track\n",
      "Track generation: 1079..1359 -> 280-tiles track\n",
      "Episode:1 Score:[5.0723085]\n",
      "Track generation: 1143..1433 -> 290-tiles track\n",
      "Track generation: 1163..1458 -> 295-tiles track\n",
      "Episode:2 Score:[-27.335669]\n",
      "Track generation: 1159..1454 -> 295-tiles track\n",
      "Track generation: 1000..1254 -> 254-tiles track\n",
      "Episode:3 Score:[-25.17009]\n",
      "Track generation: 1178..1483 -> 305-tiles track\n",
      "Track generation: 1141..1431 -> 290-tiles track\n",
      "retry to generate track (normal if there are not manyinstances of this message)\n",
      "Track generation: 1176..1474 -> 298-tiles track\n",
      "Episode:4 Score:[-4.6052194]\n",
      "Track generation: 1244..1560 -> 316-tiles track\n",
      "Track generation: 1138..1426 -> 288-tiles track\n",
      "Episode:5 Score:[-30.158783]\n"
     ]
    }
   ],
   "source": [
    "episodes =  5\n",
    "for episode in range(1, episodes+1):\n",
    "    obs =  env.reset()\n",
    "    done = False\n",
    "    score = 0\n",
    "    \n",
    "    while not done:\n",
    "        env.render()\n",
    "        action, _ = model.predict(obs) ##model here\n",
    "        obs, reward, done, info = env.step(action)\n",
    "        score+=reward\n",
    "    print('Episode:{} Score:{}'.format(episode, score))\n",
    "env.close()"
   ]
  }
 ],
 "metadata": {
  "kernelspec": {
   "display_name": "Python 3 (ipykernel)",
   "language": "python",
   "name": "python3"
  },
  "language_info": {
   "codemirror_mode": {
    "name": "ipython",
    "version": 3
   },
   "file_extension": ".py",
   "mimetype": "text/x-python",
   "name": "python",
   "nbconvert_exporter": "python",
   "pygments_lexer": "ipython3",
   "version": "3.10.6"
  }
 },
 "nbformat": 4,
 "nbformat_minor": 5
}
